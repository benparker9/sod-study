{
 "cells": [
  {
   "cell_type": "code",
   "execution_count": null,
   "id": "0a203d97-51f3-4304-9c7a-7297e4c78392",
   "metadata": {},
   "outputs": [],
   "source": [
    "install.packages('"
   ]
  }
 ],
 "metadata": {
  "kernelspec": {
   "display_name": "R",
   "language": "R",
   "name": "ir"
  },
  "language_info": {
   "codemirror_mode": "r",
   "file_extension": ".r",
   "mimetype": "text/x-r-source",
   "name": "R",
   "pygments_lexer": "r",
   "version": "3.6.1"
  }
 },
 "nbformat": 4,
 "nbformat_minor": 5
}
